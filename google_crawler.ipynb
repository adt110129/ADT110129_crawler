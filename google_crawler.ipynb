{
  "nbformat": 4,
  "nbformat_minor": 0,
  "metadata": {
    "colab": {
      "provenance": []
    },
    "kernelspec": {
      "name": "python3",
      "display_name": "Python 3"
    },
    "language_info": {
      "name": "python"
    }
  },
  "cells": [
    {
      "cell_type": "code",
      "execution_count": 11,
      "metadata": {
        "colab": {
          "base_uri": "https://localhost:8080/"
        },
        "id": "FRFKv_Yrbf2T",
        "outputId": "cd56cd5f-63ff-4723-b275-9a119eed0607"
      },
      "outputs": [
        {
          "output_type": "stream",
          "name": "stdout",
          "text": [
            "Title : StarCraft II Official Game Sitestarcraft2.blizzard.com\n",
            "URL : /url?q=https://starcraft2.blizzard.com/&sa=U&ved=2ahUKEwjJheCKjP-BAxWKpIkEHQm2AQsQFnoECAAQAg&usg=AOvVaw1SqlovMWlwv32SDWgCBI6G\n",
            "Title : StarCraft - Wikipediaen.wikipedia.org › wiki › StarCraft\n",
            "URL : /url?q=https://en.wikipedia.org/wiki/StarCraft&sa=U&ved=2ahUKEwjJheCKjP-BAxWKpIkEHQm2AQsQFnoECAkQAg&usg=AOvVaw34qGJlUhyoacNiHmhuiE5A\n",
            "Title : StarCraft: Remasteredstarcraft.blizzard.com\n",
            "URL : /url?q=https://starcraft.blizzard.com/&sa=U&ved=2ahUKEwjJheCKjP-BAxWKpIkEHQm2AQsQFnoECAcQAg&usg=AOvVaw2tOa98gILbg0slvtTyeGBl\n",
            "Title : StarCraft (video game) - Wikipediaen.wikipedia.org › wiki › StarCraft_(video_game)\n",
            "URL : /url?q=https://en.wikipedia.org/wiki/StarCraft_(video_game)&sa=U&ved=2ahUKEwjJheCKjP-BAxWKpIkEHQm2AQsQFnoECAgQAg&usg=AOvVaw2R9J1qT23qXQc6Zm5Uv9dM\n",
            "Title : Starcraft Marine: Homepagewww.starcraftmarine.com\n",
            "URL : /url?q=https://www.starcraftmarine.com/&sa=U&ved=2ahUKEwjJheCKjP-BAxWKpIkEHQm2AQsQFnoECAIQAg&usg=AOvVaw0bjPdl-p0zsA_Y0MiBhsQ3\n",
            "Title : StarCraft - YouTubewww.youtube.com › user › starcraft\n",
            "URL : /url?q=https://www.youtube.com/user/starcraft&sa=U&ved=2ahUKEwjJheCKjP-BAxWKpIkEHQm2AQsQFnoECAYQAg&usg=AOvVaw3-R9ZxSdhLVMTTJWuO92Qn\n",
            "Title : StarCraft® Remastered - Battle.netus.shop.battle.net › Battle.net › StarCraft\n",
            "URL : /url?q=https://us.shop.battle.net/en-us/product/starcraft-remastered&sa=U&ved=2ahUKEwjJheCKjP-BAxWKpIkEHQm2AQsQFnoECAMQAg&usg=AOvVaw2LDjt8t4sWVbwzyNu7Huwh\n",
            "Title : StarCraft - Battle.netus.shop.battle.net › Battle.net › StarCraft\n",
            "URL : /url?q=https://us.shop.battle.net/en-us/product/starcraft&sa=U&ved=2ahUKEwjJheCKjP-BAxWKpIkEHQm2AQsQFnoECAQQAg&usg=AOvVaw1CrAeZONLl73U1Y0uu50Of\n",
            "Title : Infinite fronts, infinite enemies. - StarCraft: Remasteredwww.starcraft.com › en-gb\n",
            "URL : /url?q=https://www.starcraft.com/en-gb/&sa=U&ved=2ahUKEwjJheCKjP-BAxWKpIkEHQm2AQsQFnoECAoQAg&usg=AOvVaw1_sDunixqJliPwSlTJ-2Xi\n",
            "Title : StarCraft - X.comtwitter.com › starcraft\n",
            "URL : /url?q=https://twitter.com/starcraft%3Flang%3Den&sa=U&ved=2ahUKEwjJheCKjP-BAxWKpIkEHQm2AQsQFnoECAEQAg&usg=AOvVaw2jDB0nOH945lx2kbMZSr9V\n"
          ]
        }
      ],
      "source": [
        "import requests\n",
        "from bs4 import BeautifulSoup\n",
        "\n",
        "google_url = 'https://www.google.com.tw/search'\n",
        "\n",
        "my_params ={'q' : 'starcraft'}\n",
        "\n",
        "r = requests.get(google_url, params = my_params)\n",
        "\n",
        "if r.status_code == requests.codes.ok:\n",
        "  soup = BeautifulSoup(r.text, 'html.parser')\n",
        "\n",
        "  items = soup.select('div.kCrYT > a[href^=\"/url\"]')\n",
        "\n",
        "  for i in items:\n",
        "    print(\"Title : \" + i.text)\n",
        "    print(\"URL : \" + i.get('href'))"
      ]
    }
  ]
}