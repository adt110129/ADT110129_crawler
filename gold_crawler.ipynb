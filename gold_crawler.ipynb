{
  "nbformat": 4,
  "nbformat_minor": 0,
  "metadata": {
    "colab": {
      "provenance": []
    },
    "kernelspec": {
      "name": "python3",
      "display_name": "Python 3"
    },
    "language_info": {
      "name": "python"
    }
  },
  "cells": [
    {
      "cell_type": "code",
      "execution_count": 9,
      "metadata": {
        "colab": {
          "base_uri": "https://localhost:8080/",
          "height": 755
        },
        "id": "FRFKv_Yrbf2T",
        "outputId": "eadea407-25be-4059-bfcc-8ec631899785"
      },
      "outputs": [
        {
          "output_type": "stream",
          "name": "stdout",
          "text": [
            "\n",
            "Gold\n",
            "Bank bought: 1993\n",
            "Bank sold: 2020\n",
            "\n",
            "Gold\n",
            "Bank bought: 1993\n",
            "Bank sold: 2020\n",
            "\n",
            "Gold\n",
            "Bank bought: 1993\n",
            "Bank sold: 2020\n",
            "\n",
            "Gold\n",
            "Bank bought: 1993\n",
            "Bank sold: 2020\n",
            "\n",
            "Gold\n",
            "Bank bought: 1993\n",
            "Bank sold: 2020\n",
            "\n",
            "Gold\n",
            "Bank bought: 1993\n",
            "Bank sold: 2020\n",
            "\n",
            "Gold\n",
            "Bank bought: 1993\n",
            "Bank sold: 2020\n",
            "\n",
            "Gold\n",
            "Bank bought: 1993\n",
            "Bank sold: 2020\n"
          ]
        },
        {
          "output_type": "error",
          "ename": "KeyboardInterrupt",
          "evalue": "ignored",
          "traceback": [
            "\u001b[0;31m---------------------------------------------------------------------------\u001b[0m",
            "\u001b[0;31mKeyboardInterrupt\u001b[0m                         Traceback (most recent call last)",
            "\u001b[0;32m<ipython-input-9-18de5646236b>\u001b[0m in \u001b[0;36m<cell line: 9>\u001b[0;34m()\u001b[0m\n\u001b[1;32m     17\u001b[0m   \u001b[0mcomb\u001b[0m \u001b[0;34m=\u001b[0m \u001b[0;34m(\u001b[0m\u001b[0;34m\"\\nGold\"\u001b[0m\u001b[0;34m+\u001b[0m\u001b[0;34m\"\\nBank bought: \"\u001b[0m\u001b[0;34m+\u001b[0m\u001b[0mgold_in\u001b[0m\u001b[0;34m+\u001b[0m\u001b[0;34m\"\\nBank sold: \"\u001b[0m\u001b[0;34m+\u001b[0m\u001b[0mgold_out\u001b[0m\u001b[0;34m)\u001b[0m\u001b[0;34m\u001b[0m\u001b[0;34m\u001b[0m\u001b[0m\n\u001b[1;32m     18\u001b[0m   \u001b[0mprint\u001b[0m\u001b[0;34m(\u001b[0m\u001b[0mcomb\u001b[0m\u001b[0;34m)\u001b[0m\u001b[0;34m\u001b[0m\u001b[0;34m\u001b[0m\u001b[0m\n\u001b[0;32m---> 19\u001b[0;31m   \u001b[0mtime\u001b[0m\u001b[0;34m.\u001b[0m\u001b[0msleep\u001b[0m\u001b[0;34m(\u001b[0m\u001b[0;36m1\u001b[0m\u001b[0;34m)\u001b[0m\u001b[0;34m\u001b[0m\u001b[0;34m\u001b[0m\u001b[0m\n\u001b[0m",
            "\u001b[0;31mKeyboardInterrupt\u001b[0m: "
          ]
        }
      ],
      "source": [
        "import time\n",
        "import urllib.request as request\n",
        "from bs4 import BeautifulSoup as sp\n",
        "import requests\n",
        "\n",
        "local_time = time.ctime(time.time())\n",
        "\n",
        "i = 0\n",
        "while i == 0:\n",
        "  url ='https://rate.bot.com.tw/gold?Lang=zh-TW'\n",
        "\n",
        "  with request.urlopen(url) as response:\n",
        "    data = response.read().decode(\"utf-8\")\n",
        "  root = sp(data,\"html.parser\")\n",
        "  gold_in = (root.find_all(\"td\")[5].text.replace(\"回售\",\"\").strip())\n",
        "  gold_out = (root.find_all(\"td\")[2].text.replace(\"買進\",\"\").strip())\n",
        "  comb = (\"\\nGold\"+\"\\nBank bought: \"+gold_in+\"\\nBank sold: \"+gold_out)\n",
        "  print(comb)\n",
        "  time.sleep(1)"
      ]
    }
  ]
}